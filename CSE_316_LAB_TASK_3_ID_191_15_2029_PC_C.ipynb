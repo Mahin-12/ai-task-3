{
  "nbformat": 4,
  "nbformat_minor": 0,
  "metadata": {
    "colab": {
      "name": "CSE-316_LAB_TASK-3 ID-191-15-2029 PC-C.ipynb",
      "provenance": [],
      "collapsed_sections": [],
      "authorship_tag": "ABX9TyNkGhph2CtsNp7W8WWOCEDx",
      "include_colab_link": true
    },
    "kernelspec": {
      "name": "python3",
      "display_name": "Python 3"
    },
    "language_info": {
      "name": "python"
    }
  },
  "cells": [
    {
      "cell_type": "markdown",
      "metadata": {
        "id": "view-in-github",
        "colab_type": "text"
      },
      "source": [
        "<a href=\"https://colab.research.google.com/github/Mahin-12/ai-task-3/blob/main/CSE_316_LAB_TASK_3_ID_191_15_2029_PC_C.ipynb\" target=\"_parent\"><img src=\"https://colab.research.google.com/assets/colab-badge.svg\" alt=\"Open In Colab\"/></a>"
      ]
    },
    {
      "cell_type": "code",
      "metadata": {
        "id": "cDEj9TfE--kq",
        "colab": {
          "base_uri": "https://localhost:8080/"
        },
        "outputId": "5684e872-b4f3-41dd-aa05-e35fae95cec3"
      },
      "source": [
        "data = []\n",
        "choice = 'random'\n",
        "\n",
        "def line():\n",
        "  print('--------------------')\n",
        "\n",
        "def show_menu():\n",
        "  line()\n",
        "  print('Welcome to DIU')\n",
        "  print('MENU')\n",
        "  line()\n",
        "  print('1. Add semester')\n",
        "  print('2. Add courses')\n",
        "  print('3. View courses')\n",
        "  print('4. Select any courses you want unenroll from!')\n",
        "  print('5. Exit!')\n",
        "  line()\n",
        "  choice = input('Enter your choice: ')\n",
        "  return choice\n",
        "\n",
        "while choice != '5':\n",
        "  choice = show_menu()\n",
        "  if choice == '1':\n",
        "    item = input('Please add your own semester! ')\n",
        "    data.append(item)\n",
        "    print('Semester',item,'added.')\n",
        "  elif choice == '2':\n",
        "    item = input('Please add your semester courses! ')\n",
        "    data.append(item)\n",
        "    print('Courses',item,'added.')\n",
        "  elif choice == '3':\n",
        "    print('List of courses: ')\n",
        "    for item in data:\n",
        "      print(item)\n",
        "  elif choice == '4':\n",
        "    item = input('Which course you want to unenroll from? : ')\n",
        "    if item in data:\n",
        "      data.remove(item)\n",
        "      print('Unenrolled courses: ',item)\n",
        "    else:\n",
        "      print('Could not find courses!',item)\n",
        "  elif choice == '5':\n",
        "    print('Thank you for Choosing DIU \\n    Have a Good Day')\n",
        "  else:\n",
        "    print('Please enter one of 1, 2, 3, 4, 5.')"
      ],
      "execution_count": null,
      "outputs": [
        {
          "output_type": "stream",
          "name": "stdout",
          "text": [
            "--------------------\n",
            "Welcome to DIU\n",
            "MENU\n",
            "--------------------\n",
            "1. Add semester\n",
            "2. Add courses\n",
            "3. View courses\n",
            "4. Select any courses you want unenroll from!\n",
            "5. Exit!\n",
            "--------------------\n",
            "Enter your choice: 4\n",
            "Which course you want to unenroll from? : DBMS\n",
            "Could not find courses! DBMS\n",
            "--------------------\n",
            "Welcome to DIU\n",
            "MENU\n",
            "--------------------\n",
            "1. Add semester\n",
            "2. Add courses\n",
            "3. View courses\n",
            "4. Select any courses you want unenroll from!\n",
            "5. Exit!\n",
            "--------------------\n"
          ]
        }
      ]
    },
    {
      "cell_type": "code",
      "metadata": {
        "id": "SGKgguPU_3YQ"
      },
      "source": [
        ""
      ],
      "execution_count": null,
      "outputs": []
    }
  ]
}